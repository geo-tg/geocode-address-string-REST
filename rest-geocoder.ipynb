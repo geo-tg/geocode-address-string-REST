{
 "cells": [
  {
   "cell_type": "code",
   "execution_count": null,
   "metadata": {},
   "outputs": [],
   "source": [
    "# imports\n",
    "import requests\n",
    "import json"
   ]
  },
  {
   "cell_type": "code",
   "execution_count": null,
   "metadata": {},
   "outputs": [],
   "source": [
    "# inputs\n",
    "ago_creds = open(r'cfg.json').read()\n",
    "creds_json = json.loads(ago_creds)\n",
    "un = creds_json['username']\n",
    "pw = creds_json['password']\n",
    "\n",
    "# arcgis world geocoder\n",
    "awg_url = 'https://geocode.arcgis.com/arcgis/rest/services/World/GeocodeServer'\n",
    "\n",
    "# method\n",
    "req_op = 'findAddressCandidates'\n",
    "# params\n",
    "addr = 'Outer Banks'\n",
    "max_r = 1\n",
    "format_r = 'json'"
   ]
  },
  {
   "cell_type": "code",
   "execution_count": null,
   "metadata": {},
   "outputs": [],
   "source": [
    "# get token funct\n",
    "def get_token(user, pw, exp):\n",
    "    '''Generates token for ArcGIS Online'''\n",
    "    \n",
    "    url = 'https://www.arcgis.com/sharing/generateToken'\n",
    "    payload  = {'username':user,\n",
    "            'password':pw,\n",
    "            'expiration':exp,\n",
    "            'referer':'www.arcgis.com',\n",
    "            'f':'json'}\n",
    "\n",
    "    r = requests.post(url, data=payload)\n",
    "    t =json.loads (r.text)\n",
    "\n",
    "    if 'token' not in t:\n",
    "        msg = t['error']['details']\n",
    "        raise Exception(f'Failed to get token: {msg}')\n",
    "    else:\n",
    "        aToken = t['token']\n",
    "        return(aToken)"
   ]
  },
  {
   "cell_type": "code",
   "execution_count": null,
   "metadata": {},
   "outputs": [],
   "source": [
    "token = get_token(un, pw, 60)"
   ]
  },
  {
   "cell_type": "code",
   "execution_count": null,
   "metadata": {},
   "outputs": [],
   "source": [
    "# geocode address function\n",
    "def geocodeAddr(address, url, operation, max_return, f, tkn):\n",
    "    '''Geocodes an address string'''\n",
    "\n",
    "    get_url = f'{url}/{operation}?address={address}&maxLocations={max_return}&f={f}&token={tkn}'\n",
    "\n",
    "    geocode_r = requests.get(get_url)\n",
    "    return(geocode_r)\n"
   ]
  },
  {
   "cell_type": "code",
   "execution_count": null,
   "metadata": {},
   "outputs": [],
   "source": [
    "geocode_result = (geocodeAddr(addr, awg_url, req_op, max_r, format_r, token)).json()"
   ]
  },
  {
   "cell_type": "code",
   "execution_count": null,
   "metadata": {},
   "outputs": [],
   "source": [
    "if geocode_result['candidates']:\n",
    "    print('Address geocoded successfully...')\n",
    "    print('getting lat and long...')\n",
    "    x = round(geocode_result['candidates'][0]['location']['x'], 3)\n",
    "    y = round(geocode_result['candidates'][0]['location']['y'], 3)\n",
    "    print(f'Address {addr} is located at {y}, {x}')\n",
    "\n",
    "else:\n",
    "    print(f'Could not geocode string: {addr}...')\n",
    "    print('Try supplying more information!')"
   ]
  }
 ],
 "metadata": {
  "interpreter": {
   "hash": "ce21b655b4d6c9e397d5ad93d5666c623f49909f6d0cc2f72076dafcf1b3ecfb"
  },
  "kernelspec": {
   "display_name": "Python 3.7.11 64-bit ('arcgispro-py3')",
   "language": "python",
   "name": "python3"
  },
  "language_info": {
   "codemirror_mode": {
    "name": "ipython",
    "version": 3
   },
   "file_extension": ".py",
   "mimetype": "text/x-python",
   "name": "python",
   "nbconvert_exporter": "python",
   "pygments_lexer": "ipython3",
   "version": "3.7.11"
  },
  "orig_nbformat": 4
 },
 "nbformat": 4,
 "nbformat_minor": 2
}
